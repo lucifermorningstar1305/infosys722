{
 "cells": [
  {
   "cell_type": "code",
   "execution_count": 1,
   "id": "7d0a3ae5",
   "metadata": {},
   "outputs": [],
   "source": [
    "from typing import List, Tuple, Dict, Any, Optional, Callable\n",
    "\n",
    "import numpy as np\n",
    "import pandas as pd\n",
    "import pyspark\n",
    "import pyspark.sql.functions as F\n",
    "import os\n",
    "import random\n",
    "\n",
    "from pyspark.sql import SparkSession\n",
    "from pyspark.sql.types import IntegerType, FloatType, DoubleType, StructField, StructType, StringType\n",
    "from pyspark.ml import Pipeline, PipelineModel\n",
    "from pyspark.ml.classification import DecisionTreeClassifier, RandomForestClassifier, LogisticRegression\n",
    "from pyspark.ml.tuning import CrossValidator, CrossValidatorModel, ParamGridBuilder\n",
    "from pyspark.ml.feature import VectorAssembler, StandardScaler, OneHotEncoder\n",
    "from pyspark.ml.evaluation import MulticlassClassificationEvaluator\n",
    "from pyspark.mllib.evaluation import MulticlassMetrics"
   ]
  },
  {
   "cell_type": "code",
   "execution_count": 2,
   "id": "f54132b1",
   "metadata": {},
   "outputs": [
    {
     "name": "stderr",
     "output_type": "stream",
     "text": [
      "WARNING: An illegal reflective access operation has occurred\n",
      "WARNING: Illegal reflective access by org.apache.spark.unsafe.Platform (file:/home/ubuntu/.local/lib/python3.10/site-packages/pyspark/jars/spark-unsafe_2.12-3.2.1.jar) to constructor java.nio.DirectByteBuffer(long,int)\n",
      "WARNING: Please consider reporting this to the maintainers of org.apache.spark.unsafe.Platform\n",
      "WARNING: Use --illegal-access=warn to enable warnings of further illegal reflective access operations\n",
      "WARNING: All illegal access operations will be denied in a future release\n",
      "Using Spark's default log4j profile: org/apache/spark/log4j-defaults.properties\n",
      "Setting default log level to \"WARN\".\n",
      "To adjust logging level use sc.setLogLevel(newLevel). For SparkR, use setLogLevel(newLevel).\n",
      "23/10/12 16:15:17 WARN NativeCodeLoader: Unable to load native-hadoop library for your platform... using builtin-java classes where applicable\n"
     ]
    }
   ],
   "source": [
    "spark = SparkSession.builder\\\n",
    ".config(\"spark.driver.memory\", \"6g\")\\\n",
    ".appName(\"diabetes_indicators\").getOrCreate()"
   ]
  },
  {
   "cell_type": "code",
   "execution_count": 17,
   "id": "e6c0560f",
   "metadata": {},
   "outputs": [
    {
     "name": "stderr",
     "output_type": "stream",
     "text": [
      "\r",
      "[Stage 31:>                                                         (0 + 2) / 2]\r"
     ]
    },
    {
     "name": "stdout",
     "output_type": "stream",
     "text": [
      "+--------+--------+--------+-------+------+--------+--------+------+--------+-------+-------+--------+-------+-------+--------+--------+---+--------+-------+-----+-------+\n",
      "|DIABETE3|CHCKIDNY|_RFHYPE5|TOLDHI2| _BMI5|SMOKE100|CVDSTRK3|_MICHD|_TOTINDA|_FRTLT1|_VEGLT1|_RFDRHV5|MEDCOST|GENHLTH|PHYSHLTH|MENTHLTH|SEX|_AGEG5YR|_MRACE1|EDUCA|INCOME2|\n",
      "+--------+--------+--------+-------+------+--------+--------+------+--------+-------+-------+--------+-------+-------+--------+--------+---+--------+-------+-----+-------+\n",
      "|       0|       0|       1|      1|2522.0|       1|       0|     0|       1|      1|      1|       0|      0|    2.0|     2.0|    88.0|  0|    10.0|    1.0|  6.0|    8.0|\n",
      "|       0|       0|       0|      0|2407.0|       0|       0|     0|       0|      0|      1|       0|      0|    2.0|    88.0|    88.0|  0|     8.0|    1.0|  4.0|    3.0|\n",
      "|       2|       0|       0|      0|2468.0|       1|       0|     0|       1|      1|      1|       0|      0|    3.0|    88.0|    88.0|  0|    13.0|    1.0|  6.0|    8.0|\n",
      "|       2|       0|       0|      0|2317.0|       1|       0|     0|       1|      0|      0|       0|      0|    2.0|    88.0|    88.0|  0|     7.0|    1.0|  5.0|    6.0|\n",
      "|       0|       0|       0|      1|2800.0|       0|       0|     0|       0|      0|      0|       1|      0|    2.0|    88.0|    10.0|  0|     4.0|    1.0|  6.0|    8.0|\n",
      "+--------+--------+--------+-------+------+--------+--------+------+--------+-------+-------+--------+-------+-------+--------+--------+---+--------+-------+-----+-------+\n",
      "only showing top 5 rows\n",
      "\n"
     ]
    },
    {
     "name": "stderr",
     "output_type": "stream",
     "text": [
      "\r",
      "[Stage 31:=============================>                            (1 + 1) / 2]\r",
      "\r",
      "                                                                                \r"
     ]
    }
   ],
   "source": [
    "df = spark.read.csv(\"./data/diabetes/final_diabetes_dataset.csv\", header=True, inferSchema=True, sep=\",\")\n",
    "df.show(5)"
   ]
  },
  {
   "cell_type": "code",
   "execution_count": 30,
   "id": "9b245d36",
   "metadata": {},
   "outputs": [],
   "source": [
    "def transform_data(df: pyspark.sql.DataFrame, map_dict: dict, colName: str) -> pyspark.sql.DataFrame:\n",
    "    \"\"\" Function to transform predictor variable based on map_dict \"\"\"\n",
    "    map_col = F.create_map([F.lit(x) for i in map_dict.items() for x in i])\n",
    "    new_df = df.withColumn(colName, map_col[F.col(colName)])\n",
    "    \n",
    "    return new_df"
   ]
  },
  {
   "cell_type": "code",
   "execution_count": 31,
   "id": "49fad776",
   "metadata": {},
   "outputs": [],
   "source": [
    "df = df.withColumn(\"PHYSHLTH\", F.when(df[\"PHYSHLTH\"] == 88, 0).otherwise(df[\"PHYSHLTH\"]))\n",
    "df = df.withColumn(\"MENTHLTH\", F.when(df[\"MENTHLTH\"] == 88, 0).otherwise(df[\"MENTHLTH\"]))\n",
    "\n",
    "df = transform_data(df, {v:idx for idx, v in enumerate(range(1, 14))}, \"_AGEG5YR\")\n",
    "df = transform_data(df, {v:idx for idx, v in enumerate(range(1, 8))}, \"_MRACE1\")\n",
    "df = transform_data(df, {v:idx for idx, v in enumerate(range(1, 7))}, \"EDUCA\")\n",
    "df = transform_data(df, {v:idx for idx, v in enumerate(range(1, 9))}, \"INCOME2\")\n",
    "df = transform_data(df, {v:idx for idx, v in enumerate(range(1, 6))}, \"GENHLTH\")"
   ]
  },
  {
   "cell_type": "code",
   "execution_count": 32,
   "id": "e99f7555",
   "metadata": {},
   "outputs": [
    {
     "name": "stdout",
     "output_type": "stream",
     "text": [
      "+-----------------+------+----+\n",
      "|DIABETE3_CHCKIDNY|     0|   1|\n",
      "+-----------------+------+----+\n",
      "|                1|  4631| 222|\n",
      "|                0|217175|6019|\n",
      "|                2| 33184|3711|\n",
      "+-----------------+------+----+\n",
      "\n"
     ]
    }
   ],
   "source": [
    "df.na.drop(subset=[\"DIABETE3\"]).crosstab(\"DIABETE3\", \"CHCKIDNY\").show()"
   ]
  },
  {
   "cell_type": "code",
   "execution_count": 33,
   "id": "f6da7f27",
   "metadata": {},
   "outputs": [
    {
     "name": "stdout",
     "output_type": "stream",
     "text": [
      "+-----------------+------+-----+\n",
      "|DIABETE3__RFHYPE5|     0|    1|\n",
      "+-----------------+------+-----+\n",
      "|                1|  1796| 3057|\n",
      "|                0|140399|82795|\n",
      "|                2|  9090|27805|\n",
      "+-----------------+------+-----+\n",
      "\n"
     ]
    }
   ],
   "source": [
    "df.na.drop(subset=[\"DIABETE3\"]).crosstab(\"DIABETE3\", \"_RFHYPE5\").show()"
   ]
  },
  {
   "cell_type": "code",
   "execution_count": 34,
   "id": "2533a9f5",
   "metadata": {},
   "outputs": [
    {
     "name": "stdout",
     "output_type": "stream",
     "text": [
      "+----------------+------+-----+\n",
      "|DIABETE3_TOLDHI2|     0|    1|\n",
      "+----------------+------+-----+\n",
      "|               1|  1833| 3020|\n",
      "|               0|139202|83992|\n",
      "|               2| 12214|24681|\n",
      "+----------------+------+-----+\n",
      "\n"
     ]
    }
   ],
   "source": [
    "df.na.drop(subset=[\"DIABETE3\", \"TOLDHI2\"]).crosstab(\"DIABETE3\", \"TOLDHI2\").show()"
   ]
  },
  {
   "cell_type": "code",
   "execution_count": 35,
   "id": "7acefbe3",
   "metadata": {},
   "outputs": [
    {
     "name": "stdout",
     "output_type": "stream",
     "text": [
      "+----------------+------+-----+----+----+---+----+----+\n",
      "|DIABETE3__MRACE1|     0|    1|   2|   3|  4|   5|   6|\n",
      "+----------------+------+-----+----+----+---+----+----+\n",
      "|               1|  3769|  470| 136| 172| 30| 120| 156|\n",
      "|               2| 29216| 4380| 918| 616|157| 755| 853|\n",
      "|               0|192056|14961|3030|4634|761|3506|4246|\n",
      "+----------------+------+-----+----+----+---+----+----+\n",
      "\n"
     ]
    }
   ],
   "source": [
    "df.na.drop(subset=[\"DIABETE3\"]).crosstab(\"DIABETE3\", \"_MRACE1\").show()"
   ]
  },
  {
   "cell_type": "code",
   "execution_count": 36,
   "id": "c0acb01a",
   "metadata": {},
   "outputs": [
    {
     "name": "stdout",
     "output_type": "stream",
     "text": [
      "+-----------------+----+----+-----+-----+-----+-----+-----+-----+-----+-----+-----+-----+-----+\n",
      "|DIABETE3__AGEG5YR|   0|   1|   10|   11|   12|    2|    3|    4|    5|    6|    7|    8|    9|\n",
      "+-----------------+----+----+-----+-----+-----+-----+-----+-----+-----+-----+-----+-----+-----+\n",
      "|                1|  26|  57|  631|  458|  470|   75|  143|  165|  319|  449|  575|  753|  732|\n",
      "|                2|  89| 147| 5355| 3529| 3343|  340|  655| 1099| 1829| 3211| 4450| 6006| 6842|\n",
      "|                0|5965|7887|18443|12567|14296|11526|13807|15526|18509|23668|27129|27994|25877|\n",
      "+-----------------+----+----+-----+-----+-----+-----+-----+-----+-----+-----+-----+-----+-----+\n",
      "\n"
     ]
    }
   ],
   "source": [
    "df.na.drop(subset=[\"DIABETE3\"]).crosstab(\"DIABETE3\", \"_AGEG5YR\").show()"
   ]
  },
  {
   "cell_type": "code",
   "execution_count": 37,
   "id": "c25db50d",
   "metadata": {},
   "outputs": [
    {
     "name": "stdout",
     "output_type": "stream",
     "text": [
      "+----------------+-----+------+\n",
      "|DIABETE3__FRTLT1|    0|     1|\n",
      "+----------------+-----+------+\n",
      "|               1| 1941|  2912|\n",
      "|               0|79652|143542|\n",
      "|               2|15285| 21610|\n",
      "+----------------+-----+------+\n",
      "\n"
     ]
    }
   ],
   "source": [
    "df.na.drop(subset=[\"DIABETE3\"]).crosstab(\"DIABETE3\", \"_FRTLT1\").show()"
   ]
  },
  {
   "cell_type": "code",
   "execution_count": 38,
   "id": "13186fc3",
   "metadata": {},
   "outputs": [
    {
     "name": "stdout",
     "output_type": "stream",
     "text": [
      "+----------------+-----+------+\n",
      "|DIABETE3__VEGLT1|    0|     1|\n",
      "+----------------+-----+------+\n",
      "|               1| 1124|  3729|\n",
      "|               0|39905|183289|\n",
      "|               2| 8998| 27897|\n",
      "+----------------+-----+------+\n",
      "\n"
     ]
    }
   ],
   "source": [
    "df.na.drop(subset=[\"DIABETE3\"]).crosstab(\"DIABETE3\", \"_VEGLT1\").show()"
   ]
  },
  {
   "cell_type": "code",
   "execution_count": 39,
   "id": "bba29821",
   "metadata": {},
   "outputs": [
    {
     "name": "stdout",
     "output_type": "stream",
     "text": [
      "+-----------------+------+-----+\n",
      "|DIABETE3__RFDRHV5|     0|    1|\n",
      "+-----------------+------+-----+\n",
      "|                1|  4636|  217|\n",
      "|                0|209595|13599|\n",
      "|                2| 36038|  857|\n",
      "+-----------------+------+-----+\n",
      "\n"
     ]
    }
   ],
   "source": [
    "df.na.drop(subset=[\"DIABETE3\"]).crosstab(\"DIABETE3\", \"_RFDRHV5\").show()"
   ]
  },
  {
   "cell_type": "code",
   "execution_count": 40,
   "id": "226b95a2",
   "metadata": {},
   "outputs": [
    {
     "data": {
      "image/png": "[encoded data removed]",
      "text/plain": [
       "<Figure size 864x720 with 1 Axes>"
      ]
     },
     "metadata": {
      "needs_background": "light"
     },
     "output_type": "display_data"
    }
   ],
   "source": [
    "import matplotlib.pyplot as plt\n",
    "import seaborn as sns\n",
    "plt.figure(figsize=(12, 10))\n",
    "plt.title(\"Relation between Diabetes and BMI\")\n",
    "sns.boxplot(x=\"DIABETE3\", y=\"_BMI5\", data=df.select([\"_BMI5\", \"DIABETE3\"]).toPandas())\n",
    "plt.show()"
   ]
  },
  {
   "cell_type": "code",
   "execution_count": 41,
   "id": "53da4ad1",
   "metadata": {},
   "outputs": [
    {
     "data": {
      "image/png": "[encoded data removed]",
      "text/plain": [
       "<Figure size 864x720 with 1 Axes>"
      ]
     },
     "metadata": {
      "needs_background": "light"
     },
     "output_type": "display_data"
    }
   ],
   "source": [
    "plt.figure(figsize=(12, 10))\n",
    "plt.title(\"Relation between Diabetes and Physical Health\")\n",
    "sns.boxplot(x=\"DIABETE3\", y=\"PHYSHLTH\", data=df.select([\"DIABETE3\", \"PHYSHLTH\"]).toPandas())\n",
    "plt.show()"
   ]
  },
  {
   "cell_type": "code",
   "execution_count": 43,
   "id": "26085759",
   "metadata": {},
   "outputs": [
    {
     "data": {
      "image/png": "[encoded data removed]",
      "text/plain": [
       "<Figure size 864x720 with 1 Axes>"
      ]
     },
     "metadata": {
      "needs_background": "light"
     },
     "output_type": "display_data"
    }
   ],
   "source": [
    "plt.figure(figsize=(12, 10))\n",
    "plt.title(\"Relation between Diabetes and Mental Health\")\n",
    "sns.boxplot(x=\"DIABETE3\", y=\"MENTHLTH\", data=df.select([\"DIABETE3\", \"MENTHLTH\"]).toPandas())\n",
    "plt.show()"
   ]
  },
  {
   "cell_type": "code",
   "execution_count": null,
   "id": "fca65264",
   "metadata": {},
   "outputs": [],
   "source": []
  }
 ],
 "metadata": {
  "kernelspec": {
   "display_name": "Python 3 (ipykernel)",
   "language": "python",
   "name": "python3"
  },
  "language_info": {
   "codemirror_mode": {
    "name": "ipython",
    "version": 3
   },
   "file_extension": ".py",
   "mimetype": "text/x-python",
   "name": "python",
   "nbconvert_exporter": "python",
   "pygments_lexer": "ipython3",
   "version": "3.10.4"
  }
 },
 "nbformat": 4,
 "nbformat_minor": 5
}
