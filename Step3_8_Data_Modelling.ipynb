{
 "cells": [
  {
   "cell_type": "code",
   "execution_count": 1,
   "id": "eae0cc21-0345-4717-a878-0219248debda",
   "metadata": {
    "tags": []
   },
   "outputs": [],
   "source": [
    "from typing import List, Tuple, Dict, Any, Optional, Callable\n",
    "\n",
    "import findspark\n",
    "findspark.init('/home/ubuntu/spark-3.2.1-bin-hadoop2.7')\n",
    "\n",
    "import numpy as np\n",
    "import pandas as pd\n",
    "import pyspark\n",
    "import pyspark.sql.functions as F\n",
    "import os\n",
    "import random\n",
    "\n",
    "from pyspark.sql import SparkSession\n",
    "from pyspark.sql.types import IntegerType, FloatType, DoubleType, StructField, StructType, StringType\n",
    "from pyspark.ml import Pipeline, PipelineModel\n",
    "from pyspark.ml.classification import DecisionTreeClassifier, RandomForestClassifier, LogisticRegression\n",
    "from pyspark.ml.tuning import CrossValidator, CrossValidatorModel, ParamGridBuilder\n",
    "from pyspark.ml.feature import VectorAssembler, StandardScaler, OneHotEncoder\n",
    "from pyspark.ml.evaluation import MulticlassClassificationEvaluator\n",
    "from pyspark.mllib.evaluation import MulticlassMetrics"
   ]
  },
  {
   "cell_type": "code",
   "execution_count": 2,
   "id": "5bdd0e97-a021-4bae-a49e-5808059995b1",
   "metadata": {
    "tags": []
   },
   "outputs": [
    {
     "name": "stderr",
     "output_type": "stream",
     "text": [
      "WARNING: An illegal reflective access operation has occurred\n",
      "WARNING: Illegal reflective access by org.apache.spark.unsafe.Platform (file:/home/ubuntu/spark-3.2.1-bin-hadoop2.7/jars/spark-unsafe_2.12-3.2.1.jar) to constructor java.nio.DirectByteBuffer(long,int)\n",
      "WARNING: Please consider reporting this to the maintainers of org.apache.spark.unsafe.Platform\n",
      "WARNING: Use --illegal-access=warn to enable warnings of further illegal reflective access operations\n",
      "WARNING: All illegal access operations will be denied in a future release\n",
      "Using Spark's default log4j profile: org/apache/spark/log4j-defaults.properties\n",
      "Setting default log level to \"WARN\".\n",
      "To adjust logging level use sc.setLogLevel(newLevel). For SparkR, use setLogLevel(newLevel).\n",
      "23/10/12 13:12:30 WARN NativeCodeLoader: Unable to load native-hadoop library for your platform... using builtin-java classes where applicable\n"
     ]
    }
   ],
   "source": [
    "spark = SparkSession.builder\\\n",
    ".config(\"spark.driver.memory\", \"6g\")\\\n",
    ".appName(\"diabetes_indicators\").getOrCreate()"
   ]
  },
  {
   "cell_type": "code",
   "execution_count": 3,
   "id": "bc891114-bce6-421d-afa2-5a1507cf27c3",
   "metadata": {
    "tags": []
   },
   "outputs": [
    {
     "name": "stderr",
     "output_type": "stream",
     "text": [
      "                                                                                \r"
     ]
    },
    {
     "name": "stdout",
     "output_type": "stream",
     "text": [
      "+--------+--------+--------+-------+------+--------+--------+------+--------+-------+-------+--------+-------+-------+--------+--------+---+--------+-------+-----+-------+\n",
      "|DIABETE3|CHCKIDNY|_RFHYPE5|TOLDHI2| _BMI5|SMOKE100|CVDSTRK3|_MICHD|_TOTINDA|_FRTLT1|_VEGLT1|_RFDRHV5|MEDCOST|GENHLTH|PHYSHLTH|MENTHLTH|SEX|_AGEG5YR|_MRACE1|EDUCA|INCOME2|\n",
      "+--------+--------+--------+-------+------+--------+--------+------+--------+-------+-------+--------+-------+-------+--------+--------+---+--------+-------+-----+-------+\n",
      "|       0|       0|       1|      1|2522.0|       1|       0|     0|       1|      1|      1|       0|      0|    2.0|     2.0|    88.0|  0|    10.0|    1.0|  6.0|    8.0|\n",
      "|       0|       0|       0|      0|2407.0|       0|       0|     0|       0|      0|      1|       0|      0|    2.0|    88.0|    88.0|  0|     8.0|    1.0|  4.0|    3.0|\n",
      "|       2|       0|       0|      0|2468.0|       1|       0|     0|       1|      1|      1|       0|      0|    3.0|    88.0|    88.0|  0|    13.0|    1.0|  6.0|    8.0|\n",
      "|       2|       0|       0|      0|2317.0|       1|       0|     0|       1|      0|      0|       0|      0|    2.0|    88.0|    88.0|  0|     7.0|    1.0|  5.0|    6.0|\n",
      "|       0|       0|       0|      1|2800.0|       0|       0|     0|       0|      0|      0|       1|      0|    2.0|    88.0|    10.0|  0|     4.0|    1.0|  6.0|    8.0|\n",
      "+--------+--------+--------+-------+------+--------+--------+------+--------+-------+-------+--------+-------+-------+--------+--------+---+--------+-------+-----+-------+\n",
      "only showing top 5 rows\n",
      "\n"
     ]
    }
   ],
   "source": [
    "df = spark.read.csv(\"./data/diabetes/final_diabetes_dataset.csv\", header=True, inferSchema=True, sep=\",\")\n",
    "df.show(5)"
   ]
  },
  {
   "cell_type": "code",
   "execution_count": 4,
   "id": "0bd3d3c4",
   "metadata": {},
   "outputs": [],
   "source": [
    "df = df.limit(100_000)"
   ]
  },
  {
   "cell_type": "markdown",
   "id": "87d54dad-6b81-451a-9d46-afd8235167ea",
   "metadata": {},
   "source": [
    "# Feature Scaling and Transformation"
   ]
  },
  {
   "cell_type": "code",
   "execution_count": 5,
   "id": "d22c0161-9345-4167-b412-9315776704b2",
   "metadata": {
    "tags": []
   },
   "outputs": [],
   "source": [
    "def transform_data(df: pyspark.sql.DataFrame, map_dict: dict, colName: str) -> pyspark.sql.DataFrame:\n",
    "    \"\"\" Function to transform predictor variable based on map_dict \"\"\"\n",
    "    map_col = F.create_map([F.lit(x) for i in map_dict.items() for x in i])\n",
    "    new_df = df.withColumn(colName, map_col[F.col(colName)])\n",
    "    \n",
    "    return new_df"
   ]
  },
  {
   "cell_type": "code",
   "execution_count": 6,
   "id": "582baa3e-eb30-4665-9fab-28389154d310",
   "metadata": {
    "tags": []
   },
   "outputs": [],
   "source": [
    "df = df.withColumn(\"PHYSHLTH\", F.when(df[\"PHYSHLTH\"] == 88, 0).otherwise(df[\"PHYSHLTH\"]))\n",
    "df = df.withColumn(\"MENTHLTH\", F.when(df[\"MENTHLTH\"] == 88, 0).otherwise(df[\"MENTHLTH\"]))\n",
    "\n",
    "df = transform_data(df, {v:idx for idx, v in enumerate(range(1, 14))}, \"_AGEG5YR\")\n",
    "df = transform_data(df, {v:idx for idx, v in enumerate(range(1, 8))}, \"_MRACE1\")\n",
    "df = transform_data(df, {v:idx for idx, v in enumerate(range(1, 7))}, \"EDUCA\")\n",
    "df = transform_data(df, {v:idx for idx, v in enumerate(range(1, 9))}, \"INCOME2\")\n",
    "df = transform_data(df, {v:idx for idx, v in enumerate(range(1, 6))}, \"GENHLTH\")"
   ]
  },
  {
   "cell_type": "code",
   "execution_count": 7,
   "id": "2a196ff8-2f46-46d1-9dcf-45d27e226c28",
   "metadata": {
    "tags": []
   },
   "outputs": [],
   "source": [
    "def scale_data(df: pyspark.sql.DataFrame, feats: List) -> pyspark.sql.DataFrame: \n",
    "    \"\"\" Function to scale the data \"\"\"\n",
    "    def scale_feat(df: pyspark.sql.DataFrame, feat: str) -> pyspark.sql.DataFrame:\n",
    "        \"\"\" Function to scale numeric columns of dataframe \"\"\"\n",
    "        unlist = F.udf(lambda x: round(float(list(x)[0]), 3), DoubleType())\n",
    "\n",
    "        assembler = VectorAssembler(inputCols=[feat], outputCol=feat+\"_vec\")\n",
    "        scaler = StandardScaler(inputCol=feat+\"_vec\", outputCol=feat+\"_scaled\")\n",
    "        pipeline = Pipeline(stages=[\n",
    "            assembler,\n",
    "            scaler\n",
    "        ])\n",
    "\n",
    "        if not os.path.exists(f\"./scalers/{feat}_pipeline\"):\n",
    "            pipeline_model = pipeline.fit(df)\n",
    "            pipeline_model.save(f\"./scalers/{feat}_pipeline\")\n",
    "\n",
    "        else:\n",
    "            print(f\"Loading pipeline from : ./scalers/{feat}_pipeline\")\n",
    "            pipeline_model = PipelineModel.load(f\"./scalers/{feat}_pipeline\")\n",
    "\n",
    "        df = pipeline_model.transform(df).withColumn(feat+\"_scaled\", unlist(feat+\"_scaled\")).drop(feat+\"_vec\")\n",
    "\n",
    "        return df, feat+\"_scaled\"\n",
    "    \n",
    "    new_feats = list()\n",
    "    for feat in feats:\n",
    "        df, _name = scale_feat(df, feat)\n",
    "        new_feats.append(_name)\n",
    "        \n",
    "    return df, new_feats"
   ]
  },
  {
   "cell_type": "code",
   "execution_count": 8,
   "id": "a9f65ff3-b0d2-4592-b01c-1c8ea26205b9",
   "metadata": {
    "tags": []
   },
   "outputs": [],
   "source": [
    "if not os.path.exists(\"./scalers/\"):\n",
    "    os.mkdir(\"./scalers\")\n",
    "\n",
    "\n",
    "num_cols = [\"_BMI5\", \"PHYSHLTH\", \"MENTHLTH\"]\n",
    "cat_cols = [x for x in df.columns if x not in [\"DIABETE3\"]+num_cols]\n",
    "\n",
    "df_train, df_test = df.randomSplit([.8, .2], seed=42)"
   ]
  },
  {
   "cell_type": "code",
   "execution_count": 9,
   "id": "f9b6c766-69be-4460-8a1c-06180f4873aa",
   "metadata": {
    "tags": []
   },
   "outputs": [
    {
     "name": "stdout",
     "output_type": "stream",
     "text": [
      "Loading pipeline from : ./scalers/_BMI5_pipeline\n",
      "Loading pipeline from : ./scalers/PHYSHLTH_pipeline\n",
      "Loading pipeline from : ./scalers/MENTHLTH_pipeline\n",
      "Loading pipeline from : ./scalers/_BMI5_pipeline\n",
      "Loading pipeline from : ./scalers/PHYSHLTH_pipeline\n",
      "Loading pipeline from : ./scalers/MENTHLTH_pipeline\n"
     ]
    }
   ],
   "source": [
    "df_train_scaled, train_new_feats = scale_data(df_train, num_cols)\n",
    "df_test_scaled, test_new_feats = scale_data(df_test, num_cols)\n",
    "\n",
    "df_train_scaled = df_train_scaled.withColumnRenamed(\"DIABETE3\", \"label\")\n",
    "df_test_scaled = df_test_scaled.withColumnRenamed(\"DIABETE3\", \"label\")"
   ]
  },
  {
   "cell_type": "code",
   "execution_count": 10,
   "id": "62ce63e6",
   "metadata": {},
   "outputs": [],
   "source": [
    "df_train_scaled = df_train_scaled.repartition(20)"
   ]
  },
  {
   "cell_type": "code",
   "execution_count": 11,
   "id": "79346440-bd07-4fc6-afc1-50edb52120b0",
   "metadata": {
    "tags": []
   },
   "outputs": [],
   "source": [
    "dtree = DecisionTreeClassifier(featuresCol=\"features\", labelCol=\"label\", seed=32)\n",
    "rf = RandomForestClassifier(featuresCol=\"features\", labelCol=\"label\", seed=32)\n",
    "log_reg = LogisticRegression(featuresCol=\"features\", labelCol=\"label\", standardization=True)"
   ]
  },
  {
   "cell_type": "code",
   "execution_count": 12,
   "id": "5a8f8ba6-0dd7-4cd9-bb81-e149e4a38ccf",
   "metadata": {
    "tags": []
   },
   "outputs": [],
   "source": [
    "paramGrid_dtree = ParamGridBuilder() \\\n",
    ".addGrid(dtree.maxDepth, [5, 10, 15, 20])\\\n",
    ".build()\n",
    "\n",
    "paramGrid_rf = ParamGridBuilder()\\\n",
    ".addGrid(rf.maxDepth, [5, 10, 15, 20])\\\n",
    ".build()\n",
    "\n",
    "paramGrid_logreg = ParamGridBuilder()\\\n",
    ".addGrid(log_reg.maxIter, [20, 50, 100])\\\n",
    ".addGrid(log_reg.tol, [1e-2, 1e-4, 1e-6])\\\n",
    ".addGrid(log_reg.threshold, [.5, .7])\\\n",
    ".build()"
   ]
  },
  {
   "cell_type": "code",
   "execution_count": 13,
   "id": "cba92253-d61b-4f3c-9e32-fd049c869d2a",
   "metadata": {
    "tags": []
   },
   "outputs": [],
   "source": [
    "pipeline_dtree = Pipeline(\n",
    "    stages=[\n",
    "        VectorAssembler(inputCols=cat_cols + train_new_feats, outputCol=\"features\"),\n",
    "        dtree\n",
    "    ]\n",
    ")\n",
    "\n",
    "pipeline_rf = Pipeline(\n",
    "    stages=[\n",
    "        VectorAssembler(inputCols=cat_cols + train_new_feats, outputCol=\"features\"),\n",
    "        rf\n",
    "    ]\n",
    ")\n",
    "\n",
    "pipeline_logreg = Pipeline(\n",
    "    stages=[\n",
    "        VectorAssembler(inputCols=cat_cols + train_new_feats, outputCol=\"features\"),\n",
    "        log_reg\n",
    "    ]\n",
    ")"
   ]
  },
  {
   "cell_type": "markdown",
   "id": "e6f00de6-e175-48c9-90f1-426487c059bb",
   "metadata": {},
   "source": [
    "# Model Cross-Validation"
   ]
  },
  {
   "cell_type": "markdown",
   "id": "f880c08f-8816-4cb1-a661-038c16427027",
   "metadata": {},
   "source": [
    "## - Decision Tree"
   ]
  },
  {
   "cell_type": "code",
   "execution_count": 14,
   "id": "72c0c6c8-fed2-4878-9ffe-434c932962b3",
   "metadata": {
    "tags": []
   },
   "outputs": [
    {
     "name": "stderr",
     "output_type": "stream",
     "text": [
      "23/10/12 10:36:53 WARN DAGScheduler: Broadcasting large task binary with size 1027.3 KiB\n",
      "23/10/12 10:37:03 WARN DAGScheduler: Broadcasting large task binary with size 1027.3 KiB\n",
      "23/10/12 10:37:04 WARN DAGScheduler: Broadcasting large task binary with size 1274.2 KiB\n",
      "23/10/12 10:37:06 WARN DAGScheduler: Broadcasting large task binary with size 1519.3 KiB\n",
      "23/10/12 10:37:08 WARN DAGScheduler: Broadcasting large task binary with size 1760.7 KiB\n",
      "23/10/12 10:37:12 WARN DAGScheduler: Broadcasting large task binary with size 1995.2 KiB\n",
      "23/10/12 10:37:17 WARN DAGScheduler: Broadcasting large task binary with size 2.2 MiB\n",
      "23/10/12 10:37:22 WARN DAGScheduler: Broadcasting large task binary with size 1412.0 KiB\n",
      "23/10/12 10:38:41 WARN DAGScheduler: Broadcasting large task binary with size 1017.8 KiB\n",
      "23/10/12 10:39:09 WARN DAGScheduler: Broadcasting large task binary with size 1017.8 KiB\n",
      "23/10/12 10:39:12 WARN DAGScheduler: Broadcasting large task binary with size 1260.5 KiB\n",
      "23/10/12 10:39:15 WARN DAGScheduler: Broadcasting large task binary with size 1509.6 KiB\n",
      "23/10/12 10:39:18 WARN DAGScheduler: Broadcasting large task binary with size 1755.4 KiB\n",
      "23/10/12 10:39:22 WARN DAGScheduler: Broadcasting large task binary with size 1990.1 KiB\n",
      "23/10/12 10:39:27 WARN DAGScheduler: Broadcasting large task binary with size 2.2 MiB\n",
      "23/10/12 10:39:32 WARN DAGScheduler: Broadcasting large task binary with size 1398.0 KiB\n",
      "23/10/12 10:40:20 WARN DAGScheduler: Broadcasting large task binary with size 1040.0 KiB\n",
      "23/10/12 10:40:29 WARN DAGScheduler: Broadcasting large task binary with size 1040.0 KiB\n",
      "23/10/12 10:40:30 WARN DAGScheduler: Broadcasting large task binary with size 1290.6 KiB\n",
      "23/10/12 10:40:31 WARN DAGScheduler: Broadcasting large task binary with size 1545.9 KiB\n",
      "23/10/12 10:40:32 WARN DAGScheduler: Broadcasting large task binary with size 1793.1 KiB\n",
      "23/10/12 10:40:33 WARN DAGScheduler: Broadcasting large task binary with size 2023.7 KiB\n",
      "23/10/12 10:40:34 WARN DAGScheduler: Broadcasting large task binary with size 2.2 MiB\n",
      "23/10/12 10:40:36 WARN DAGScheduler: Broadcasting large task binary with size 1414.9 KiB\n",
      "                                                                                \r"
     ]
    }
   ],
   "source": [
    "crossval_dtree = CrossValidator(estimator=pipeline_dtree, \n",
    "                               estimatorParamMaps=paramGrid_dtree, \n",
    "                               evaluator=MulticlassClassificationEvaluator(),\n",
    "                               numFolds=3)\n",
    "cvmodel_dtree = crossval_dtree.fit(df_train_scaled)"
   ]
  },
  {
   "cell_type": "code",
   "execution_count": 15,
   "id": "f23e4040-22f5-4c0b-8599-7dc4d03eac6e",
   "metadata": {
    "tags": []
   },
   "outputs": [
    {
     "data": {
      "text/plain": [
       "[0.7912102002347752, 0.7933607056277938, 0.7797563972636286, 0.76369564240532]"
      ]
     },
     "execution_count": 15,
     "metadata": {},
     "output_type": "execute_result"
    }
   ],
   "source": [
    "cvmodel_dtree.avgMetrics"
   ]
  },
  {
   "cell_type": "markdown",
   "id": "501de3bd-92f1-459e-b037-7ac483c2457c",
   "metadata": {},
   "source": [
    "## - Random Forest"
   ]
  },
  {
   "cell_type": "code",
   "execution_count": 16,
   "id": "85de93b5-8d55-4324-b359-bc490c81c851",
   "metadata": {
    "scrolled": false,
    "tags": []
   },
   "outputs": [
    {
     "name": "stderr",
     "output_type": "stream",
     "text": [
      "23/10/12 10:41:10 WARN DAGScheduler: Broadcasting large task binary with size 1488.2 KiB\n",
      "23/10/12 10:41:12 WARN DAGScheduler: Broadcasting large task binary with size 2.5 MiB\n",
      "23/10/12 10:41:16 WARN DAGScheduler: Broadcasting large task binary with size 1573.8 KiB\n",
      "23/10/12 10:41:31 WARN DAGScheduler: Broadcasting large task binary with size 1488.2 KiB\n",
      "23/10/12 10:41:38 WARN DAGScheduler: Broadcasting large task binary with size 2.5 MiB\n",
      "23/10/12 10:41:49 WARN DAGScheduler: Broadcasting large task binary with size 4.0 MiB\n",
      "23/10/12 10:42:04 WARN DAGScheduler: Broadcasting large task binary with size 6.1 MiB\n",
      "23/10/12 10:42:18 WARN DAGScheduler: Broadcasting large task binary with size 1016.4 KiB\n",
      "23/10/12 10:42:25 WARN DAGScheduler: Broadcasting large task binary with size 8.7 MiB\n",
      "23/10/12 10:42:44 WARN DAGScheduler: Broadcasting large task binary with size 1237.0 KiB\n",
      "23/10/12 10:42:51 WARN DAGScheduler: Broadcasting large task binary with size 11.9 MiB\n",
      "23/10/12 10:43:13 WARN DAGScheduler: Broadcasting large task binary with size 1425.9 KiB\n",
      "23/10/12 10:43:22 WARN DAGScheduler: Broadcasting large task binary with size 15.4 MiB\n",
      "23/10/12 10:43:52 WARN DAGScheduler: Broadcasting large task binary with size 1542.0 KiB\n",
      "23/10/12 10:44:01 WARN DAGScheduler: Broadcasting large task binary with size 8.9 MiB\n",
      "23/10/12 10:44:35 WARN DAGScheduler: Broadcasting large task binary with size 1488.2 KiB\n",
      "23/10/12 10:44:42 WARN DAGScheduler: Broadcasting large task binary with size 2.5 MiB\n",
      "23/10/12 10:44:52 WARN DAGScheduler: Broadcasting large task binary with size 4.0 MiB\n",
      "23/10/12 10:45:07 WARN DAGScheduler: Broadcasting large task binary with size 6.1 MiB\n",
      "23/10/12 10:45:12 WARN DAGScheduler: Broadcasting large task binary with size 1016.4 KiB\n",
      "23/10/12 10:45:15 WARN DAGScheduler: Broadcasting large task binary with size 8.7 MiB\n",
      "23/10/12 10:45:20 WARN DAGScheduler: Broadcasting large task binary with size 1237.0 KiB\n",
      "23/10/12 10:45:23 WARN DAGScheduler: Broadcasting large task binary with size 11.9 MiB\n",
      "23/10/12 10:45:29 WARN DAGScheduler: Broadcasting large task binary with size 1425.9 KiB\n",
      "23/10/12 10:45:32 WARN DAGScheduler: Broadcasting large task binary with size 15.4 MiB\n",
      "23/10/12 10:45:41 WARN DAGScheduler: Broadcasting large task binary with size 1542.0 KiB\n",
      "23/10/12 10:45:45 WARN DAGScheduler: Broadcasting large task binary with size 19.2 MiB\n",
      "23/10/12 10:45:54 WARN DAGScheduler: Broadcasting large task binary with size 1587.5 KiB\n",
      "23/10/12 10:45:58 WARN DAGScheduler: Broadcasting large task binary with size 23.0 MiB\n",
      "23/10/12 10:46:08 WARN DAGScheduler: Broadcasting large task binary with size 1550.7 KiB\n",
      "23/10/12 10:46:12 WARN DAGScheduler: Broadcasting large task binary with size 26.6 MiB\n",
      "23/10/12 10:46:34 WARN DAGScheduler: Broadcasting large task binary with size 1461.7 KiB\n",
      "23/10/12 10:46:45 WARN DAGScheduler: Broadcasting large task binary with size 29.9 MiB\n",
      "23/10/12 10:47:29 WARN DAGScheduler: Broadcasting large task binary with size 1304.1 KiB\n",
      "23/10/12 10:47:39 WARN DAGScheduler: Broadcasting large task binary with size 32.8 MiB\n",
      "23/10/12 10:48:25 WARN DAGScheduler: Broadcasting large task binary with size 1122.1 KiB\n",
      "23/10/12 10:48:35 WARN DAGScheduler: Broadcasting large task binary with size 18.0 MiB\n",
      "23/10/12 10:50:00 WARN DAGScheduler: Broadcasting large task binary with size 1471.2 KiB\n",
      "23/10/12 10:50:08 WARN DAGScheduler: Broadcasting large task binary with size 2.4 MiB\n",
      "23/10/12 10:50:12 WARN DAGScheduler: Broadcasting large task binary with size 1555.0 KiB\n",
      "23/10/12 10:50:19 WARN DAGScheduler: Broadcasting large task binary with size 1471.2 KiB\n",
      "23/10/12 10:50:21 WARN DAGScheduler: Broadcasting large task binary with size 2.4 MiB\n",
      "23/10/12 10:50:24 WARN DAGScheduler: Broadcasting large task binary with size 3.9 MiB\n",
      "23/10/12 10:50:29 WARN DAGScheduler: Broadcasting large task binary with size 5.9 MiB\n",
      "23/10/12 10:50:35 WARN DAGScheduler: Broadcasting large task binary with size 8.5 MiB\n",
      "23/10/12 10:50:40 WARN DAGScheduler: Broadcasting large task binary with size 1214.6 KiB\n",
      "23/10/12 10:50:42 WARN DAGScheduler: Broadcasting large task binary with size 11.6 MiB\n",
      "23/10/12 10:50:48 WARN DAGScheduler: Broadcasting large task binary with size 1403.9 KiB\n",
      "23/10/12 10:50:51 WARN DAGScheduler: Broadcasting large task binary with size 15.1 MiB\n",
      "23/10/12 10:51:00 WARN DAGScheduler: Broadcasting large task binary with size 1527.2 KiB\n",
      "23/10/12 10:51:03 WARN DAGScheduler: Broadcasting large task binary with size 8.8 MiB\n",
      "23/10/12 10:51:13 WARN DAGScheduler: Broadcasting large task binary with size 1471.2 KiB\n",
      "23/10/12 10:51:15 WARN DAGScheduler: Broadcasting large task binary with size 2.4 MiB\n",
      "23/10/12 10:51:19 WARN DAGScheduler: Broadcasting large task binary with size 3.9 MiB\n",
      "23/10/12 10:51:29 WARN DAGScheduler: Broadcasting large task binary with size 5.9 MiB\n",
      "23/10/12 10:51:47 WARN DAGScheduler: Broadcasting large task binary with size 8.5 MiB\n",
      "23/10/12 10:52:04 WARN DAGScheduler: Broadcasting large task binary with size 1214.6 KiB\n",
      "23/10/12 10:52:12 WARN DAGScheduler: Broadcasting large task binary with size 11.6 MiB\n",
      "23/10/12 10:52:33 WARN DAGScheduler: Broadcasting large task binary with size 1403.9 KiB\n",
      "23/10/12 10:52:42 WARN DAGScheduler: Broadcasting large task binary with size 15.1 MiB\n",
      "23/10/12 10:53:09 WARN DAGScheduler: Broadcasting large task binary with size 1527.2 KiB\n",
      "23/10/12 10:53:20 WARN DAGScheduler: Broadcasting large task binary with size 18.9 MiB\n",
      "23/10/12 10:53:51 WARN DAGScheduler: Broadcasting large task binary with size 1573.6 KiB\n",
      "23/10/12 10:54:01 WARN DAGScheduler: Broadcasting large task binary with size 22.6 MiB\n",
      "23/10/12 10:54:35 WARN DAGScheduler: Broadcasting large task binary with size 1537.6 KiB\n",
      "23/10/12 10:54:46 WARN DAGScheduler: Broadcasting large task binary with size 26.2 MiB\n",
      "23/10/12 10:55:14 WARN DAGScheduler: Broadcasting large task binary with size 1450.8 KiB\n",
      "23/10/12 10:55:18 WARN DAGScheduler: Broadcasting large task binary with size 29.5 MiB\n",
      "23/10/12 10:55:31 WARN DAGScheduler: Broadcasting large task binary with size 1288.8 KiB\n",
      "23/10/12 10:55:35 WARN DAGScheduler: Broadcasting large task binary with size 32.3 MiB\n",
      "23/10/12 10:55:49 WARN DAGScheduler: Broadcasting large task binary with size 1108.5 KiB\n",
      "23/10/12 10:55:53 WARN DAGScheduler: Broadcasting large task binary with size 17.7 MiB\n",
      "23/10/12 10:56:20 WARN DAGScheduler: Broadcasting large task binary with size 1497.7 KiB\n",
      "23/10/12 10:56:24 WARN DAGScheduler: Broadcasting large task binary with size 2.5 MiB\n",
      "23/10/12 10:56:34 WARN DAGScheduler: Broadcasting large task binary with size 1587.1 KiB\n",
      "23/10/12 10:56:57 WARN DAGScheduler: Broadcasting large task binary with size 1497.7 KiB\n",
      "23/10/12 10:57:04 WARN DAGScheduler: Broadcasting large task binary with size 2.5 MiB\n",
      "23/10/12 10:57:15 WARN DAGScheduler: Broadcasting large task binary with size 4.0 MiB\n",
      "23/10/12 10:57:29 WARN DAGScheduler: Broadcasting large task binary with size 6.1 MiB\n",
      "23/10/12 10:57:43 WARN DAGScheduler: Broadcasting large task binary with size 1026.5 KiB\n",
      "23/10/12 10:57:50 WARN DAGScheduler: Broadcasting large task binary with size 8.8 MiB\n",
      "23/10/12 10:58:07 WARN DAGScheduler: Broadcasting large task binary with size 1262.5 KiB\n",
      "23/10/12 10:58:15 WARN DAGScheduler: Broadcasting large task binary with size 12.0 MiB\n",
      "23/10/12 10:58:36 WARN DAGScheduler: Broadcasting large task binary with size 1446.0 KiB\n",
      "23/10/12 10:58:45 WARN DAGScheduler: Broadcasting large task binary with size 15.6 MiB\n",
      "23/10/12 10:59:14 WARN DAGScheduler: Broadcasting large task binary with size 1584.9 KiB\n",
      "23/10/12 10:59:23 WARN DAGScheduler: Broadcasting large task binary with size 9.1 MiB\n",
      "23/10/12 10:59:58 WARN DAGScheduler: Broadcasting large task binary with size 1497.7 KiB\n",
      "23/10/12 11:00:05 WARN DAGScheduler: Broadcasting large task binary with size 2.5 MiB\n",
      "23/10/12 11:00:11 WARN DAGScheduler: Broadcasting large task binary with size 4.0 MiB\n",
      "23/10/12 11:00:16 WARN DAGScheduler: Broadcasting large task binary with size 6.1 MiB\n",
      "23/10/12 11:00:19 WARN DAGScheduler: Broadcasting large task binary with size 1026.5 KiB\n",
      "23/10/12 11:00:22 WARN DAGScheduler: Broadcasting large task binary with size 8.8 MiB\n",
      "23/10/12 11:00:27 WARN DAGScheduler: Broadcasting large task binary with size 1262.5 KiB\n",
      "23/10/12 11:00:29 WARN DAGScheduler: Broadcasting large task binary with size 12.0 MiB\n",
      "23/10/12 11:00:36 WARN DAGScheduler: Broadcasting large task binary with size 1446.0 KiB\n",
      "23/10/12 11:00:39 WARN DAGScheduler: Broadcasting large task binary with size 15.6 MiB\n",
      "23/10/12 11:00:47 WARN DAGScheduler: Broadcasting large task binary with size 1584.9 KiB\n",
      "23/10/12 11:00:51 WARN DAGScheduler: Broadcasting large task binary with size 19.5 MiB\n",
      "23/10/12 11:01:00 WARN DAGScheduler: Broadcasting large task binary with size 1616.1 KiB\n",
      "23/10/12 11:01:04 WARN DAGScheduler: Broadcasting large task binary with size 23.3 MiB\n",
      "23/10/12 11:01:15 WARN DAGScheduler: Broadcasting large task binary with size 1560.7 KiB\n",
      "23/10/12 11:01:20 WARN DAGScheduler: Broadcasting large task binary with size 26.9 MiB\n",
      "23/10/12 11:01:58 WARN DAGScheduler: Broadcasting large task binary with size 1435.9 KiB\n",
      "23/10/12 11:02:10 WARN DAGScheduler: Broadcasting large task binary with size 30.1 MiB\n",
      "23/10/12 11:02:56 WARN DAGScheduler: Broadcasting large task binary with size 1269.8 KiB\n",
      "23/10/12 11:03:06 WARN DAGScheduler: Broadcasting large task binary with size 32.9 MiB\n",
      "23/10/12 11:03:52 WARN DAGScheduler: Broadcasting large task binary with size 1084.0 KiB\n",
      "23/10/12 11:04:01 WARN DAGScheduler: Broadcasting large task binary with size 18.1 MiB\n",
      "23/10/12 11:05:15 WARN DAGScheduler: Broadcasting large task binary with size 1542.0 KiB\n",
      "23/10/12 11:05:17 WARN DAGScheduler: Broadcasting large task binary with size 2.6 MiB\n",
      "23/10/12 11:05:21 WARN DAGScheduler: Broadcasting large task binary with size 4.3 MiB\n",
      "23/10/12 11:05:26 WARN DAGScheduler: Broadcasting large task binary with size 6.6 MiB\n",
      "23/10/12 11:05:31 WARN DAGScheduler: Broadcasting large task binary with size 1197.7 KiB\n",
      "23/10/12 11:05:34 WARN DAGScheduler: Broadcasting large task binary with size 9.8 MiB\n",
      "23/10/12 11:05:42 WARN DAGScheduler: Broadcasting large task binary with size 1541.2 KiB\n",
      "23/10/12 11:05:45 WARN DAGScheduler: Broadcasting large task binary with size 13.8 MiB\n",
      "23/10/12 11:05:54 WARN DAGScheduler: Broadcasting large task binary with size 1839.1 KiB\n",
      "23/10/12 11:05:58 WARN DAGScheduler: Broadcasting large task binary with size 18.5 MiB\n",
      "23/10/12 11:06:08 WARN DAGScheduler: Broadcasting large task binary with size 2.0 MiB\n",
      "23/10/12 11:06:13 WARN DAGScheduler: Broadcasting large task binary with size 23.6 MiB\n",
      "23/10/12 11:06:38 WARN DAGScheduler: Broadcasting large task binary with size 2.2 MiB\n",
      "23/10/12 11:06:52 WARN DAGScheduler: Broadcasting large task binary with size 29.1 MiB\n",
      "23/10/12 11:07:43 WARN DAGScheduler: Broadcasting large task binary with size 2.2 MiB\n",
      "23/10/12 11:07:59 WARN DAGScheduler: Broadcasting large task binary with size 34.5 MiB\n",
      "23/10/12 11:08:53 WARN DAGScheduler: Broadcasting large task binary with size 2.2 MiB\n",
      "23/10/12 11:09:10 WARN DAGScheduler: Broadcasting large task binary with size 39.7 MiB\n",
      "23/10/12 11:10:07 WARN DAGScheduler: Broadcasting large task binary with size 2.0 MiB\n",
      "23/10/12 11:10:15 WARN DAGScheduler: Broadcasting large task binary with size 44.3 MiB\n",
      "23/10/12 11:10:33 WARN DAGScheduler: Broadcasting large task binary with size 1863.4 KiB\n",
      "[Stage 1929:>                                                       (0 + 1) / 1]\r"
     ]
    }
   ],
   "source": [
    "crossval_rf = CrossValidator(estimator=pipeline_rf, \n",
    "                               estimatorParamMaps=paramGrid_rf, \n",
    "                               evaluator=MulticlassClassificationEvaluator(),\n",
    "                               numFolds=3)\n",
    "cvmodel_rf = crossval_rf.fit(df_train_scaled)"
   ]
  },
  {
   "cell_type": "code",
   "execution_count": 17,
   "id": "56fe9446-fa66-4cec-9d70-ed2ca193cd4a",
   "metadata": {
    "tags": []
   },
   "outputs": [
    {
     "data": {
      "text/plain": [
       "[0.7585544594555061,\n",
       " 0.7870592152906328,\n",
       " 0.7943679202221721,\n",
       " 0.7967513844578309]"
      ]
     },
     "execution_count": 17,
     "metadata": {},
     "output_type": "execute_result"
    }
   ],
   "source": [
    "cvmodel_rf.avgMetrics"
   ]
  },
  {
   "cell_type": "code",
   "execution_count": 28,
   "id": "17c235a4-1b48-4fc0-a3e3-26321ea00f58",
   "metadata": {
    "scrolled": false,
    "tags": []
   },
   "outputs": [
    {
     "name": "stderr",
     "output_type": "stream",
     "text": [
      "23/10/12 11:20:28 WARN CacheManager: Asked to cache already cached data.\n",
      "23/10/12 11:20:28 WARN CacheManager: Asked to cache already cached data.\n",
      "23/10/12 11:20:30 WARN InstanceBuilder$NativeBLAS: Failed to load implementation from:dev.ludovic.netlib.blas.JNIBLAS\n",
      "23/10/12 11:20:30 WARN InstanceBuilder$NativeBLAS: Failed to load implementation from:dev.ludovic.netlib.blas.ForeignLinkerBLAS\n",
      "[Stage 7374:>                                                       (0 + 1) / 1]\r"
     ]
    }
   ],
   "source": [
    "crossval_log_reg = CrossValidator(estimator=pipeline_logreg, \n",
    "                               estimatorParamMaps=paramGrid_logreg, \n",
    "                               evaluator=MulticlassClassificationEvaluator(),\n",
    "                               numFolds=3)\n",
    "cvmodel_log_reg = crossval_log_reg.fit(df_train_scaled)"
   ]
  },
  {
   "cell_type": "code",
   "execution_count": 30,
   "id": "0b720820-23d8-4911-abcc-072088660386",
   "metadata": {
    "tags": []
   },
   "outputs": [
    {
     "data": {
      "text/plain": [
       "[0.7943157207658739,\n",
       " 0.7943157207658739,\n",
       " 0.7936749154071325,\n",
       " 0.7936749154071325,\n",
       " 0.7936749154071325,\n",
       " 0.7936749154071325,\n",
       " 0.7943157207658739,\n",
       " 0.7943157207658739,\n",
       " 0.7936801529260931,\n",
       " 0.7936801529260931,\n",
       " 0.7936887999328142,\n",
       " 0.7936887999328142,\n",
       " 0.7943157207658739,\n",
       " 0.7943157207658739,\n",
       " 0.7936801529260931,\n",
       " 0.7936801529260931,\n",
       " 0.7936887999328142,\n",
       " 0.7936887999328142]"
      ]
     },
     "execution_count": 30,
     "metadata": {},
     "output_type": "execute_result"
    }
   ],
   "source": [
    "cvmodel_log_reg.avgMetrics"
   ]
  },
  {
   "cell_type": "markdown",
   "id": "4ead25c2",
   "metadata": {},
   "source": [
    "# Data Modelling (on complete Train set)"
   ]
  },
  {
   "cell_type": "code",
   "execution_count": 39,
   "id": "7cd717c8",
   "metadata": {},
   "outputs": [],
   "source": [
    "rf2 = RandomForestClassifier(featuresCol=\"features\", labelCol=\"label\",\n",
    "                                 maxDepth=20, numTrees=20, seed=32)\n",
    "pipeline_rf2 = Pipeline(\n",
    "    stages=[\n",
    "        VectorAssembler(inputCols=cat_cols + train_new_feats, outputCol=\"features\"),\n",
    "        rf2\n",
    "    ]\n",
    ")"
   ]
  },
  {
   "cell_type": "code",
   "execution_count": 40,
   "id": "798ccea7",
   "metadata": {},
   "outputs": [
    {
     "name": "stderr",
     "output_type": "stream",
     "text": [
      "23/10/12 14:09:23 WARN DAGScheduler: Broadcasting large task binary with size 1542.0 KiB\n",
      "23/10/12 14:09:25 WARN DAGScheduler: Broadcasting large task binary with size 2.6 MiB\n",
      "23/10/12 14:09:28 WARN DAGScheduler: Broadcasting large task binary with size 4.3 MiB\n",
      "23/10/12 14:09:33 WARN DAGScheduler: Broadcasting large task binary with size 6.6 MiB\n",
      "23/10/12 14:09:39 WARN DAGScheduler: Broadcasting large task binary with size 1197.7 KiB\n",
      "23/10/12 14:09:41 WARN DAGScheduler: Broadcasting large task binary with size 9.8 MiB\n",
      "23/10/12 14:09:47 WARN DAGScheduler: Broadcasting large task binary with size 1541.2 KiB\n",
      "23/10/12 14:09:50 WARN DAGScheduler: Broadcasting large task binary with size 13.8 MiB\n",
      "23/10/12 14:09:58 WARN DAGScheduler: Broadcasting large task binary with size 1839.1 KiB\n",
      "23/10/12 14:10:02 WARN DAGScheduler: Broadcasting large task binary with size 18.5 MiB\n",
      "23/10/12 14:10:13 WARN DAGScheduler: Broadcasting large task binary with size 2.0 MiB\n",
      "23/10/12 14:10:17 WARN DAGScheduler: Broadcasting large task binary with size 23.6 MiB\n",
      "23/10/12 14:10:28 WARN DAGScheduler: Broadcasting large task binary with size 2.2 MiB\n",
      "23/10/12 14:10:34 WARN DAGScheduler: Broadcasting large task binary with size 29.1 MiB\n",
      "23/10/12 14:10:49 WARN DAGScheduler: Broadcasting large task binary with size 2.2 MiB\n",
      "23/10/12 14:10:54 WARN DAGScheduler: Broadcasting large task binary with size 34.5 MiB\n",
      "23/10/12 14:11:11 WARN DAGScheduler: Broadcasting large task binary with size 2.2 MiB\n",
      "23/10/12 14:11:17 WARN DAGScheduler: Broadcasting large task binary with size 39.7 MiB\n",
      "23/10/12 14:11:34 WARN DAGScheduler: Broadcasting large task binary with size 2.0 MiB\n",
      "23/10/12 14:11:40 WARN DAGScheduler: Broadcasting large task binary with size 44.3 MiB\n",
      "23/10/12 14:11:58 WARN DAGScheduler: Broadcasting large task binary with size 1863.4 KiB\n",
      "[Stage 779:>                                                        (0 + 1) / 1]\r"
     ]
    }
   ],
   "source": [
    "rf_model = pipeline_rf2.fit(df_train_scaled)"
   ]
  },
  {
   "cell_type": "code",
   "execution_count": 41,
   "id": "f3a2f4d9",
   "metadata": {},
   "outputs": [
    {
     "name": "stderr",
     "output_type": "stream",
     "text": [
      "23/10/12 14:12:08 WARN DAGScheduler: Broadcasting large task binary with size 24.3 MiB\n",
      "23/10/12 14:12:13 WARN DAGScheduler: Broadcasting large task binary with size 24.3 MiB\n",
      "[Stage 786:>                                                        (0 + 1) / 1]\r"
     ]
    },
    {
     "name": "stdout",
     "output_type": "stream",
     "text": [
      "Results on Test set: \n",
      "--------------------\n",
      "Accuracy: 0.8345688840240808\n",
      "F1: 0.7991226042855168\n",
      "--------------------\n"
     ]
    },
    {
     "name": "stderr",
     "output_type": "stream",
     "text": [
      "\r",
      "                                                                                \r"
     ]
    }
   ],
   "source": [
    "test_predictions = rf_model.transform(df_test_scaled)\n",
    "acc_evaluator = MulticlassClassificationEvaluator(metricName=\"accuracy\")\n",
    "f1_evaluator = MulticlassClassificationEvaluator(metricName=\"f1\")\n",
    "\n",
    "rf_acc_eval = acc_evaluator.evaluate(test_predictions)\n",
    "rf_f1_eval = f1_evaluator.evaluate(test_predictions)\n",
    "\n",
    "print(\"Results on Test set: \")\n",
    "print(\"-\"*20)\n",
    "print(f\"Accuracy: {rf_acc_eval}\")\n",
    "print(f\"F1: {rf_f1_eval}\")\n",
    "print(\"-\"*20)"
   ]
  },
  {
   "cell_type": "code",
   "execution_count": 42,
   "id": "4b2394b2",
   "metadata": {},
   "outputs": [
    {
     "data": {
      "text/plain": [
       "SparseVector(20, {0: 0.0175, 1: 0.0582, 2: 0.0314, 3: 0.0293, 4: 0.0137, 5: 0.0253, 6: 0.0284, 7: 0.0322, 8: 0.0291, 9: 0.0122, 10: 0.0166, 11: 0.0863, 13: 0.1169, 14: 0.0391, 15: 0.0648, 16: 0.087, 17: 0.171, 18: 0.0809, 19: 0.0602})"
      ]
     },
     "execution_count": 42,
     "metadata": {},
     "output_type": "execute_result"
    }
   ],
   "source": [
    "rf_model.stages[1].featureImportances"
   ]
  },
  {
   "cell_type": "code",
   "execution_count": 43,
   "id": "ad58adef",
   "metadata": {},
   "outputs": [
    {
     "data": {
      "text/plain": [
       "[('CHCKIDNY', 0.017472141153498547),\n",
       " ('_RFHYPE5', 0.05816656084851104),\n",
       " ('TOLDHI2', 0.03137401396359205),\n",
       " ('SMOKE100', 0.02934674293736463),\n",
       " ('CVDSTRK3', 0.013690054719408946),\n",
       " ('_MICHD', 0.025267877220373203),\n",
       " ('_TOTINDA', 0.02839284317571737),\n",
       " ('_FRTLT1', 0.03223459479903599),\n",
       " ('_VEGLT1', 0.029055672202848232),\n",
       " ('_RFDRHV5', 0.012205501243057264),\n",
       " ('MEDCOST', 0.016577593636003574),\n",
       " ('GENHLTH', 0.08627208732974928),\n",
       " ('SEX', 0.0),\n",
       " ('_AGEG5YR', 0.11685519143209815),\n",
       " ('_MRACE1', 0.03906514442402025),\n",
       " ('EDUCA', 0.06482972381937366),\n",
       " ('INCOME2', 0.08701565349361218),\n",
       " ('_BMI5_scaled', 0.17099624058783286),\n",
       " ('PHYSHLTH_scaled', 0.08094566004358734),\n",
       " ('MENTHLTH_scaled', 0.06023670297031545)]"
      ]
     },
     "execution_count": 43,
     "metadata": {},
     "output_type": "execute_result"
    }
   ],
   "source": [
    "feat_cols = cat_cols + train_new_feats\n",
    "rf_feat_imp = rf_model.stages[1].featureImportances\n",
    "\n",
    "feature_importance = [(feat, float(rf_feat_imp[idx])) for idx, feat in enumerate(feat_cols)]\n",
    "feature_importance"
   ]
  },
  {
   "cell_type": "code",
   "execution_count": 44,
   "id": "1067536f",
   "metadata": {},
   "outputs": [
    {
     "data": {
      "image/png": "[encoded data removed]",
      "text/plain": [
       "<Figure size 864x720 with 1 Axes>"
      ]
     },
     "metadata": {
      "needs_background": "light"
     },
     "output_type": "display_data"
    }
   ],
   "source": [
    "feature_importance_df = spark.createDataFrame(data=feature_importance,\n",
    "                                             schema=StructType([\n",
    "                                                 StructField(\"features\", StringType(), True),\n",
    "                                                 StructField(\"importance\", FloatType(), True)\n",
    "                                             ]))\n",
    "import matplotlib.pyplot as plt\n",
    "import seaborn as sns\n",
    "\n",
    "plt.figure(figsize=(12, 10))\n",
    "plt.title(\"Feature importance of Random Forest\")\n",
    "sns.barplot(x=\"features\", y=\"importance\", data=feature_importance_df.toPandas(), color=\"cornflowerblue\")\n",
    "plt.xticks(rotation=90)\n",
    "plt.show()"
   ]
  },
  {
   "cell_type": "code",
   "execution_count": 45,
   "id": "3566c0bc",
   "metadata": {},
   "outputs": [
    {
     "name": "stderr",
     "output_type": "stream",
     "text": [
      "23/10/12 14:12:19 WARN DAGScheduler: Broadcasting large task binary with size 24.3 MiB\n",
      "23/10/12 14:12:22 WARN DAGScheduler: Broadcasting large task binary with size 24.3 MiB\n",
      "/home/ubuntu/spark-3.2.1-bin-hadoop2.7/python/pyspark/sql/context.py:125: FutureWarning: Deprecated in 3.0.0. Use SparkSession.builder.getOrCreate() instead.\n",
      "  warnings.warn(\n",
      "23/10/12 14:12:26 WARN DAGScheduler: Broadcasting large task binary with size 24.2 MiB\n",
      "23/10/12 14:12:27 WARN DAGScheduler: Broadcasting large task binary with size 24.2 MiB\n",
      "                                                                                \r"
     ]
    },
    {
     "data": {
      "text/plain": [
       "array([[1.6171e+04, 1.0000e+00, 5.7600e+02],\n",
       "       [3.0600e+02, 0.0000e+00, 3.9000e+01],\n",
       "       [2.4030e+03, 0.0000e+00, 6.0300e+02]])"
      ]
     },
     "execution_count": 45,
     "metadata": {},
     "output_type": "execute_result"
    }
   ],
   "source": [
    "preds_labels = test_predictions.select([\"prediction\", \"label\"])\\\n",
    ".withColumn(\"label\", F.col(\"label\").cast(FloatType()))\\\n",
    ".orderBy(\"prediction\")\n",
    "\n",
    "conf_mat_metric = MulticlassMetrics(preds_labels.rdd.map(tuple))\n",
    "conf_mat_metric.confusionMatrix().toArray()"
   ]
  },
  {
   "cell_type": "code",
   "execution_count": 46,
   "id": "d6eba6bc",
   "metadata": {},
   "outputs": [
    {
     "name": "stderr",
     "output_type": "stream",
     "text": [
      "23/10/12 14:12:30 WARN DAGScheduler: Broadcasting large task binary with size 24.3 MiB\n",
      "23/10/12 14:12:36 WARN DAGScheduler: Broadcasting large task binary with size 24.2 MiB\n",
      "                                                                                \r"
     ]
    },
    {
     "data": {
      "text/html": [
       "<div>\n",
       "<style scoped>\n",
       "    .dataframe tbody tr th:only-of-type {\n",
       "        vertical-align: middle;\n",
       "    }\n",
       "\n",
       "    .dataframe tbody tr th {\n",
       "        vertical-align: top;\n",
       "    }\n",
       "\n",
       "    .dataframe thead th {\n",
       "        text-align: right;\n",
       "    }\n",
       "</style>\n",
       "<table border=\"1\" class=\"dataframe\">\n",
       "  <thead>\n",
       "    <tr style=\"text-align: right;\">\n",
       "      <th></th>\n",
       "      <th>prediction_label</th>\n",
       "      <th>0</th>\n",
       "      <th>1</th>\n",
       "      <th>2</th>\n",
       "    </tr>\n",
       "  </thead>\n",
       "  <tbody>\n",
       "    <tr>\n",
       "      <th>2</th>\n",
       "      <td>0.0</td>\n",
       "      <td>16171</td>\n",
       "      <td>306</td>\n",
       "      <td>2403</td>\n",
       "    </tr>\n",
       "    <tr>\n",
       "      <th>1</th>\n",
       "      <td>1.0</td>\n",
       "      <td>1</td>\n",
       "      <td>0</td>\n",
       "      <td>0</td>\n",
       "    </tr>\n",
       "    <tr>\n",
       "      <th>0</th>\n",
       "      <td>2.0</td>\n",
       "      <td>576</td>\n",
       "      <td>39</td>\n",
       "      <td>603</td>\n",
       "    </tr>\n",
       "  </tbody>\n",
       "</table>\n",
       "</div>"
      ],
      "text/plain": [
       "  prediction_label      0    1     2\n",
       "2              0.0  16171  306  2403\n",
       "1              1.0      1    0     0\n",
       "0              2.0    576   39   603"
      ]
     },
     "execution_count": 46,
     "metadata": {},
     "output_type": "execute_result"
    }
   ],
   "source": [
    "cm_results = test_predictions.crosstab(\"prediction\", \"label\")\\\n",
    ".toPandas()\\\n",
    ".sort_values(by=[\"prediction_label\"])\n",
    "cm_results"
   ]
  },
  {
   "cell_type": "code",
   "execution_count": 50,
   "id": "fdf48c63",
   "metadata": {},
   "outputs": [
    {
     "data": {
      "text/plain": [
       "(0.8084153983885407, 0.9655481251492716)"
      ]
     },
     "execution_count": 50,
     "metadata": {},
     "output_type": "execute_result"
    }
   ],
   "source": [
    "conf_mat_metric.falsePositiveRate(0.), conf_mat_metric.truePositiveRate(0.)"
   ]
  },
  {
   "cell_type": "code",
   "execution_count": 51,
   "id": "3463e45b",
   "metadata": {},
   "outputs": [
    {
     "data": {
      "text/plain": [
       "(5.062265870203503e-05, 0.0)"
      ]
     },
     "execution_count": 51,
     "metadata": {},
     "output_type": "execute_result"
    }
   ],
   "source": [
    "conf_mat_metric.falsePositiveRate(1.), conf_mat_metric.truePositiveRate(1.)"
   ]
  },
  {
   "cell_type": "code",
   "execution_count": 52,
   "id": "8ff545ca",
   "metadata": {},
   "outputs": [
    {
     "data": {
      "text/plain": [
       "(0.03597964078862692, 0.20059880239520958)"
      ]
     },
     "execution_count": 52,
     "metadata": {},
     "output_type": "execute_result"
    }
   ],
   "source": [
    "conf_mat_metric.falsePositiveRate(2.), conf_mat_metric.truePositiveRate(2.)"
   ]
  },
  {
   "cell_type": "markdown",
   "id": "6dc53cdf",
   "metadata": {},
   "source": [
    "# RF Data Modelling with Oversampling"
   ]
  },
  {
   "cell_type": "code",
   "execution_count": 15,
   "id": "d295edc5",
   "metadata": {},
   "outputs": [],
   "source": [
    "def oversample(df: pyspark.sql.DataFrame, minoritylabel: int) -> pyspark.sql.DataFrame:\n",
    "    \"\"\" Function to oversample the minority classes \"\"\"\n",
    "    \n",
    "    majority_df = df_train_scaled.filter(F.col(\"label\") == 0)\n",
    "    minority_df = df_train_scaled.filter((F.col(\"label\") == minoritylabel))\n",
    "    ratio = int(majority_df.count() / minority_df.count())\n",
    "    \n",
    "    oversampled_df = minority_df.withColumn(\"dummy\", \n",
    "                                           F.explode(\n",
    "                                               F.array([F.lit(x) for x in range(ratio)])\n",
    "                                           )).drop(\"dummy\")\n",
    "    \n",
    "    return oversampled_df"
   ]
  },
  {
   "cell_type": "code",
   "execution_count": 20,
   "id": "c13c6ece",
   "metadata": {},
   "outputs": [],
   "source": [
    "df_minority_1 = oversample(df_train_scaled, 1)\n",
    "df_minority_2 = oversample(df_train_scaled, 2)\n",
    "\n",
    "df_oversampled_scaled = df_train_scaled.filter(F.col(\"label\") == 0).union(df_minority_1)\n",
    "df_oversampled_scaled = df_oversampled_scaled.union(df_minority_2)"
   ]
  },
  {
   "cell_type": "code",
   "execution_count": 22,
   "id": "0094ffe4",
   "metadata": {},
   "outputs": [
    {
     "data": {
      "image/png": "[encoded data removed]",
      "text/plain": [
       "<Figure size 864x576 with 1 Axes>"
      ]
     },
     "metadata": {
      "needs_background": "light"
     },
     "output_type": "display_data"
    }
   ],
   "source": [
    "import seaborn as sns\n",
    "import matplotlib.pyplot as plt\n",
    "\n",
    "plt.figure(figsize=(12, 8))\n",
    "plt.title(\"Before Oversampling\")\n",
    "sns.countplot(x=\"label\", data=df_train_scaled.select(\"label\").toPandas(), color=\"cornflowerblue\")\n",
    "plt.show()"
   ]
  },
  {
   "cell_type": "code",
   "execution_count": 24,
   "id": "b2e3bdd3",
   "metadata": {},
   "outputs": [
    {
     "name": "stderr",
     "output_type": "stream",
     "text": [
      "                                                                                \r"
     ]
    },
    {
     "data": {
      "image/png": "[encoded data removed]",
      "text/plain": [
       "<Figure size 864x576 with 1 Axes>"
      ]
     },
     "metadata": {
      "needs_background": "light"
     },
     "output_type": "display_data"
    }
   ],
   "source": [
    "plt.figure(figsize=(12, 8))\n",
    "plt.title(\"After Oversampling\")\n",
    "sns.countplot(x=\"label\", data=df_oversampled_scaled.select(\"label\").toPandas(), color=\"indianred\")\n",
    "plt.show()"
   ]
  },
  {
   "cell_type": "code",
   "execution_count": 29,
   "id": "c41e5791",
   "metadata": {},
   "outputs": [],
   "source": [
    "rf3 = RandomForestClassifier(featuresCol=\"features\", labelCol=\"label\",\n",
    "                                 maxDepth=20, numTrees=50, seed=32)\n",
    "pipeline_rf3 = Pipeline(\n",
    "    stages=[\n",
    "        VectorAssembler(inputCols=cat_cols + train_new_feats, outputCol=\"features\"),\n",
    "        rf3\n",
    "    ]\n",
    ")"
   ]
  },
  {
   "cell_type": "code",
   "execution_count": 30,
   "id": "9da9be46",
   "metadata": {},
   "outputs": [
    {
     "name": "stderr",
     "output_type": "stream",
     "text": [
      "23/10/12 13:42:32 WARN DAGScheduler: Broadcasting large task binary with size 1157.5 KiB\n",
      "23/10/12 13:42:39 WARN DAGScheduler: Broadcasting large task binary with size 2.1 MiB\n",
      "23/10/12 13:42:49 WARN DAGScheduler: Broadcasting large task binary with size 3.7 MiB\n",
      "23/10/12 13:43:04 WARN DAGScheduler: Broadcasting large task binary with size 6.6 MiB\n",
      "23/10/12 13:43:21 WARN DAGScheduler: Broadcasting large task binary with size 1609.0 KiB\n",
      "23/10/12 13:43:27 WARN DAGScheduler: Broadcasting large task binary with size 11.2 MiB\n",
      "23/10/12 13:43:51 WARN DAGScheduler: Broadcasting large task binary with size 2.4 MiB\n",
      "23/10/12 13:44:01 WARN DAGScheduler: Broadcasting large task binary with size 17.9 MiB\n",
      "23/10/12 13:44:37 WARN DAGScheduler: Broadcasting large task binary with size 3.4 MiB\n",
      "23/10/12 13:44:50 WARN DAGScheduler: Broadcasting large task binary with size 27.1 MiB\n",
      "23/10/12 13:45:41 WARN DAGScheduler: Broadcasting large task binary with size 4.4 MiB\n",
      "23/10/12 13:46:00 WARN DAGScheduler: Broadcasting large task binary with size 39.0 MiB\n",
      "23/10/12 13:47:05 WARN DAGScheduler: Broadcasting large task binary with size 5.5 MiB\n",
      "23/10/12 13:47:28 WARN DAGScheduler: Broadcasting large task binary with size 53.4 MiB\n",
      "23/10/12 13:48:55 WARN DAGScheduler: Broadcasting large task binary with size 6.4 MiB\n",
      "23/10/12 13:49:22 WARN DAGScheduler: Broadcasting large task binary with size 69.7 MiB\n",
      "23/10/12 13:51:05 WARN DAGScheduler: Broadcasting large task binary with size 7.1 MiB\n",
      "23/10/12 13:51:37 WARN DAGScheduler: Broadcasting large task binary with size 87.2 MiB\n",
      "23/10/12 13:53:40 WARN DAGScheduler: Broadcasting large task binary with size 7.4 MiB\n",
      "23/10/12 13:54:17 WARN DAGScheduler: Broadcasting large task binary with size 105.3 MiB\n",
      "23/10/12 13:56:38 WARN DAGScheduler: Broadcasting large task binary with size 7.4 MiB\n",
      "23/10/12 13:57:16 WARN DAGScheduler: Broadcasting large task binary with size 122.9 MiB\n",
      "23/10/12 14:00:03 WARN DAGScheduler: Broadcasting large task binary with size 7.1 MiB\n",
      "23/10/12 14:00:41 WARN DAGScheduler: Broadcasting large task binary with size 139.4 MiB\n",
      "23/10/12 14:03:52 WARN DAGScheduler: Broadcasting large task binary with size 6.6 MiB\n",
      "[Stage 644:>                                                        (0 + 1) / 1]\r"
     ]
    }
   ],
   "source": [
    "rf_model2 = pipeline_rf3.fit(df_oversampled_scaled)"
   ]
  },
  {
   "cell_type": "code",
   "execution_count": 31,
   "id": "217d7ecf",
   "metadata": {},
   "outputs": [
    {
     "name": "stderr",
     "output_type": "stream",
     "text": [
      "23/10/12 14:04:35 WARN DAGScheduler: Broadcasting large task binary with size 82.7 MiB\n",
      "23/10/12 14:04:46 WARN DAGScheduler: Broadcasting large task binary with size 82.7 MiB\n",
      "[Stage 651:>                                                        (0 + 1) / 1]\r"
     ]
    },
    {
     "name": "stdout",
     "output_type": "stream",
     "text": [
      "Results on Test set: \n",
      "--------------------\n",
      "Accuracy: 0.7843673814617642\n",
      "F1: 0.7910107293671006\n",
      "--------------------\n"
     ]
    },
    {
     "name": "stderr",
     "output_type": "stream",
     "text": [
      "\r",
      "                                                                                \r"
     ]
    }
   ],
   "source": [
    "test_predictions2 = rf_model2.transform(df_test_scaled)\n",
    "acc_evaluator2 = MulticlassClassificationEvaluator(metricName=\"accuracy\")\n",
    "f1_evaluator2 = MulticlassClassificationEvaluator(metricName=\"f1\")\n",
    "\n",
    "rf_acc_eval2 = acc_evaluator2.evaluate(test_predictions2)\n",
    "rf_f1_eval2 = f1_evaluator2.evaluate(test_predictions2)\n",
    "\n",
    "print(\"Results on Test set: \")\n",
    "print(\"-\"*20)\n",
    "print(f\"Accuracy: {rf_acc_eval2}\")\n",
    "print(f\"F1: {rf_f1_eval2}\")\n",
    "print(\"-\"*20)"
   ]
  },
  {
   "cell_type": "code",
   "execution_count": 32,
   "id": "9c99b4c5",
   "metadata": {},
   "outputs": [
    {
     "name": "stderr",
     "output_type": "stream",
     "text": [
      "23/10/12 14:05:03 WARN DAGScheduler: Broadcasting large task binary with size 82.6 MiB\n",
      "23/10/12 14:05:11 WARN DAGScheduler: Broadcasting large task binary with size 82.6 MiB\n",
      "23/10/12 14:05:21 WARN DAGScheduler: Broadcasting large task binary with size 82.6 MiB\n",
      "23/10/12 14:05:26 WARN DAGScheduler: Broadcasting large task binary with size 82.6 MiB\n",
      "                                                                                \r"
     ]
    },
    {
     "data": {
      "text/plain": [
       "array([[1.431e+04, 1.890e+02, 2.249e+03],\n",
       "       [2.240e+02, 5.000e+00, 1.160e+02],\n",
       "       [1.516e+03, 4.000e+01, 1.450e+03]])"
      ]
     },
     "execution_count": 32,
     "metadata": {},
     "output_type": "execute_result"
    }
   ],
   "source": [
    "preds_labels2 = test_predictions2.select([\"prediction\", \"label\"])\\\n",
    ".withColumn(\"label\", F.col(\"label\").cast(FloatType()))\\\n",
    ".orderBy(\"prediction\")\n",
    "\n",
    "conf_mat_metric2 = MulticlassMetrics(preds_labels2.rdd.map(tuple))\n",
    "conf_mat_metric2.confusionMatrix().toArray()"
   ]
  },
  {
   "cell_type": "code",
   "execution_count": 34,
   "id": "8f02fa5f",
   "metadata": {},
   "outputs": [
    {
     "name": "stderr",
     "output_type": "stream",
     "text": [
      "23/10/12 14:05:39 WARN package: Truncated the string representation of a plan since it was too large. This behavior can be adjusted by setting 'spark.sql.debug.maxToStringFields'.\n",
      "23/10/12 14:05:46 WARN DAGScheduler: Broadcasting large task binary with size 82.7 MiB\n",
      "23/10/12 14:06:01 WARN DAGScheduler: Broadcasting large task binary with size 82.6 MiB\n",
      "                                                                                \r"
     ]
    },
    {
     "data": {
      "text/html": [
       "<div>\n",
       "<style scoped>\n",
       "    .dataframe tbody tr th:only-of-type {\n",
       "        vertical-align: middle;\n",
       "    }\n",
       "\n",
       "    .dataframe tbody tr th {\n",
       "        vertical-align: top;\n",
       "    }\n",
       "\n",
       "    .dataframe thead th {\n",
       "        text-align: right;\n",
       "    }\n",
       "</style>\n",
       "<table border=\"1\" class=\"dataframe\">\n",
       "  <thead>\n",
       "    <tr style=\"text-align: right;\">\n",
       "      <th></th>\n",
       "      <th>prediction_label</th>\n",
       "      <th>0</th>\n",
       "      <th>1</th>\n",
       "      <th>2</th>\n",
       "    </tr>\n",
       "  </thead>\n",
       "  <tbody>\n",
       "    <tr>\n",
       "      <th>2</th>\n",
       "      <td>0.0</td>\n",
       "      <td>14310</td>\n",
       "      <td>224</td>\n",
       "      <td>1516</td>\n",
       "    </tr>\n",
       "    <tr>\n",
       "      <th>1</th>\n",
       "      <td>1.0</td>\n",
       "      <td>189</td>\n",
       "      <td>5</td>\n",
       "      <td>40</td>\n",
       "    </tr>\n",
       "    <tr>\n",
       "      <th>0</th>\n",
       "      <td>2.0</td>\n",
       "      <td>2249</td>\n",
       "      <td>116</td>\n",
       "      <td>1450</td>\n",
       "    </tr>\n",
       "  </tbody>\n",
       "</table>\n",
       "</div>"
      ],
      "text/plain": [
       "  prediction_label      0    1     2\n",
       "2              0.0  14310  224  1516\n",
       "1              1.0    189    5    40\n",
       "0              2.0   2249  116  1450"
      ]
     },
     "execution_count": 34,
     "metadata": {},
     "output_type": "execute_result"
    }
   ],
   "source": [
    "cm_results2 = test_predictions2.crosstab(\"prediction\", \"label\")\\\n",
    ".toPandas()\\\n",
    ".sort_values(by=[\"prediction_label\"])\n",
    "cm_results2"
   ]
  },
  {
   "cell_type": "code",
   "execution_count": 36,
   "id": "21d587c9",
   "metadata": {},
   "outputs": [
    {
     "data": {
      "text/plain": [
       "(0.5192479856759177, 0.8544303797468354)"
      ]
     },
     "execution_count": 36,
     "metadata": {},
     "output_type": "execute_result"
    }
   ],
   "source": [
    "conf_mat_metric2.falsePositiveRate(0.), conf_mat_metric2.truePositiveRate(0.)"
   ]
  },
  {
   "cell_type": "code",
   "execution_count": 37,
   "id": "db46933c",
   "metadata": {},
   "outputs": [
    {
     "data": {
      "text/plain": [
       "(0.011592588842766023, 0.014492753623188406)"
      ]
     },
     "execution_count": 37,
     "metadata": {},
     "output_type": "execute_result"
    }
   ],
   "source": [
    "conf_mat_metric2.falsePositiveRate(1.), conf_mat_metric2.truePositiveRate(1.)"
   ]
  },
  {
   "cell_type": "code",
   "execution_count": 38,
   "id": "4fba4d5a",
   "metadata": {},
   "outputs": [
    {
     "data": {
      "text/plain": [
       "(0.13836073246358158, 0.4823685961410512)"
      ]
     },
     "execution_count": 38,
     "metadata": {},
     "output_type": "execute_result"
    }
   ],
   "source": [
    "conf_mat_metric2.falsePositiveRate(2.), conf_mat_metric2.truePositiveRate(2.)"
   ]
  },
  {
   "cell_type": "code",
   "execution_count": null,
   "id": "f5db98f7",
   "metadata": {},
   "outputs": [],
   "source": []
  }
 ],
 "metadata": {
  "kernelspec": {
   "display_name": "Python 3 (ipykernel)",
   "language": "python",
   "name": "python3"
  },
  "language_info": {
   "codemirror_mode": {
    "name": "ipython",
    "version": 3
   },
   "file_extension": ".py",
   "mimetype": "text/x-python",
   "name": "python",
   "nbconvert_exporter": "python",
   "pygments_lexer": "ipython3",
   "version": "3.10.4"
  }
 },
 "nbformat": 4,
 "nbformat_minor": 5
}
